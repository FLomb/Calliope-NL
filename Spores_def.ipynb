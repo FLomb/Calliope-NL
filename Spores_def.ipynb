{
 "cells": [
  {
   "cell_type": "code",
   "execution_count": null,
   "id": "5c3de2bb",
   "metadata": {},
   "outputs": [],
   "source": [
    "import calliope\n",
    "import pandas as pd\n",
    "import matplotlib.pyplot as plt\n",
    "\n",
    "# calliope.set_log_verbosity('CRITICAL', include_solver_output=False) # Defines how much information you get from the machine as the model gets built and run\n",
    "\n",
    "calliope.set_log_verbosity('INFO', include_solver_output=False)"
   ]
  },
  {
   "cell_type": "code",
   "execution_count": 6,
   "id": "d0710d7f",
   "metadata": {},
   "outputs": [
    {
     "name": "stdout",
     "output_type": "stream",
     "text": [
      "[2025-04-22 13:55:22] INFO     Model: initialising\n",
      "[2025-04-22 13:55:23] INFO     Applying the following overrides from scenario definition: ['spores_run_config', 'spores_group_constraint', 'children_spores', 'spores_scoring'] \n",
      "[2025-04-22 13:55:23] INFO     `group_constraints.systemwide_cost_max.cost_max.monetary`:10000.0 applied from override as new configuration\n",
      "Override applied to run.mode: plan -> spores\n",
      "Override applied to run.spores_options.spores_number: 10 -> 10\n",
      "`techs.battery.costs.spores_score.energy_cap`:0 applied from override as new configuration\n",
      "`techs.battery.costs.spores_score.interest_rate`:1 applied from override as new configuration\n",
      "`techs.hydrogen_to_power.costs.spores_score.energy_cap`:0 applied from override as new configuration\n",
      "`techs.hydrogen_to_power.costs.spores_score.interest_rate`:1 applied from override as new configuration\n",
      "`techs.pv_farm.costs.spores_score.energy_cap`:0 applied from override as new configuration\n",
      "`techs.pv_farm.costs.spores_score.interest_rate`:1 applied from override as new configuration\n",
      "`techs.pv_rooftop.costs.spores_score.energy_cap`:0 applied from override as new configuration\n",
      "`techs.pv_rooftop.costs.spores_score.interest_rate`:1 applied from override as new configuration\n",
      "`techs.wind_offshore.costs.spores_score.energy_cap`:0 applied from override as new configuration\n",
      "`techs.wind_offshore.costs.spores_score.interest_rate`:1 applied from override as new configuration\n",
      "`techs.wind_onshore.costs.spores_score.energy_cap`:0 applied from override as new configuration\n",
      "`techs.wind_onshore.costs.spores_score.interest_rate`:1 applied from override as new configuration\n",
      "[2025-04-22 13:55:27] INFO     `hydrogen_to_power` at `NL11` has no constraint to explicitly connect `energy_cap` to `storage_cap`, consider defining a `energy_cap_per_storage_cap_min/max/equals` constraint\n",
      "[2025-04-22 13:55:27] INFO     `hydrogen_to_power` at `NL12` has no constraint to explicitly connect `energy_cap` to `storage_cap`, consider defining a `energy_cap_per_storage_cap_min/max/equals` constraint\n",
      "[2025-04-22 13:55:27] INFO     `hydrogen_to_power` at `NL13` has no constraint to explicitly connect `energy_cap` to `storage_cap`, consider defining a `energy_cap_per_storage_cap_min/max/equals` constraint\n",
      "[2025-04-22 13:55:27] INFO     `hydrogen_to_power` at `NL21` has no constraint to explicitly connect `energy_cap` to `storage_cap`, consider defining a `energy_cap_per_storage_cap_min/max/equals` constraint\n",
      "[2025-04-22 13:55:27] INFO     `hydrogen_to_power` at `NL22` has no constraint to explicitly connect `energy_cap` to `storage_cap`, consider defining a `energy_cap_per_storage_cap_min/max/equals` constraint\n",
      "[2025-04-22 13:55:27] INFO     `hydrogen_to_power` at `NL23` has no constraint to explicitly connect `energy_cap` to `storage_cap`, consider defining a `energy_cap_per_storage_cap_min/max/equals` constraint\n",
      "[2025-04-22 13:55:27] INFO     `hydrogen_to_power` at `NL31` has no constraint to explicitly connect `energy_cap` to `storage_cap`, consider defining a `energy_cap_per_storage_cap_min/max/equals` constraint\n",
      "[2025-04-22 13:55:27] INFO     `hydrogen_to_power` at `NL32` has no constraint to explicitly connect `energy_cap` to `storage_cap`, consider defining a `energy_cap_per_storage_cap_min/max/equals` constraint\n",
      "[2025-04-22 13:55:27] INFO     `hydrogen_to_power` at `NL33` has no constraint to explicitly connect `energy_cap` to `storage_cap`, consider defining a `energy_cap_per_storage_cap_min/max/equals` constraint\n",
      "[2025-04-22 13:55:27] INFO     `hydrogen_to_power` at `NL34` has no constraint to explicitly connect `energy_cap` to `storage_cap`, consider defining a `energy_cap_per_storage_cap_min/max/equals` constraint\n",
      "[2025-04-22 13:55:27] INFO     `hydrogen_to_power` at `NL41` has no constraint to explicitly connect `energy_cap` to `storage_cap`, consider defining a `energy_cap_per_storage_cap_min/max/equals` constraint\n",
      "[2025-04-22 13:55:27] INFO     `hydrogen_to_power` at `NL42` has no constraint to explicitly connect `energy_cap` to `storage_cap`, consider defining a `energy_cap_per_storage_cap_min/max/equals` constraint\n",
      "[2025-04-22 13:55:27] INFO     Model: preprocessing stage 1 (model_run)\n",
      "[2025-04-22 13:55:28] INFO     Model: preprocessing stage 2 (model_data)\n",
      "[2025-04-22 13:55:29] INFO     Model: preprocessing complete\n",
      "[2025-04-22 13:55:29] INFO     Backend: starting model run in SPORES mode\n",
      "[2025-04-22 13:55:29] INFO     Backend: starting model run\n",
      "[2025-04-22 13:55:29] INFO     Loading sets\n",
      "[2025-04-22 13:55:29] INFO     Loading parameters\n",
      "[2025-04-22 13:55:31] INFO     constraints are loaded in the following order: ['capacity', 'costs', 'dispatch', 'energy_balance', 'network', 'policy', 'conversion', 'conversion_plus', 'group', 'export', 'milp']\n",
      "[2025-04-22 13:55:31] INFO     creating capacity constraints\n",
      "[2025-04-22 13:55:31] INFO     creating costs constraints\n",
      "[2025-04-22 13:56:11] INFO     creating dispatch constraints\n",
      "[2025-04-22 13:56:19] INFO     creating energy_balance constraints\n",
      "[2025-04-22 13:56:36] INFO     creating network constraints\n",
      "[2025-04-22 13:56:36] INFO     creating policy constraints\n",
      "[2025-04-22 13:56:36] INFO     creating conversion constraints\n",
      "[2025-04-22 13:56:36] INFO     creating conversion_plus constraints\n",
      "[2025-04-22 13:56:36] INFO     creating group constraints\n",
      "[2025-04-22 13:56:36] INFO     creating export constraints\n",
      "[2025-04-22 13:56:36] INFO     creating milp constraints\n",
      "[2025-04-22 13:56:36] INFO     Backend: model generated. Time since start of model run: 0:01:06.795895\n",
      "[2025-04-22 13:56:36] INFO     Backend: sending model to solver\n"
     ]
    },
    {
     "ename": "ValueError",
     "evalue": "Cannot load a SolverResults object with bad status: error",
     "output_type": "error",
     "traceback": [
      "\u001b[1;31m---------------------------------------------------------------------------\u001b[0m",
      "\u001b[1;31mValueError\u001b[0m                                Traceback (most recent call last)",
      "Cell \u001b[1;32mIn[6], line 2\u001b[0m\n\u001b[0;32m      1\u001b[0m model \u001b[38;5;241m=\u001b[39m calliope\u001b[38;5;241m.\u001b[39mModel(\u001b[38;5;124m'\u001b[39m\u001b[38;5;124mmodel_files/model.yaml\u001b[39m\u001b[38;5;124m'\u001b[39m, scenario\u001b[38;5;241m=\u001b[39m\u001b[38;5;124m'\u001b[39m\u001b[38;5;124mspores_group_constraint,spores_run_config,children_spores,spores_scoring\u001b[39m\u001b[38;5;124m'\u001b[39m)\n\u001b[1;32m----> 2\u001b[0m \u001b[43mmodel\u001b[49m\u001b[38;5;241;43m.\u001b[39;49m\u001b[43mrun\u001b[49m\u001b[43m(\u001b[49m\u001b[43m)\u001b[49m\n",
      "File \u001b[1;32mc:\\Users\\Hewlett-Packard\\anaconda3\\envs\\calliope_0.6.8_spores\\lib\\site-packages\\calliope\\core\\model.py:269\u001b[0m, in \u001b[0;36mModel.run\u001b[1;34m(self, force_rerun, **kwargs)\u001b[0m\n\u001b[0;32m    260\u001b[0m \u001b[38;5;28;01mif\u001b[39;00m (\n\u001b[0;32m    261\u001b[0m     \u001b[38;5;28mself\u001b[39m\u001b[38;5;241m.\u001b[39mrun_config[\u001b[38;5;124m\"\u001b[39m\u001b[38;5;124mmode\u001b[39m\u001b[38;5;124m\"\u001b[39m] \u001b[38;5;241m==\u001b[39m \u001b[38;5;124m\"\u001b[39m\u001b[38;5;124moperate\u001b[39m\u001b[38;5;124m\"\u001b[39m\n\u001b[0;32m    262\u001b[0m     \u001b[38;5;129;01mand\u001b[39;00m \u001b[38;5;129;01mnot\u001b[39;00m \u001b[38;5;28mself\u001b[39m\u001b[38;5;241m.\u001b[39m_model_data\u001b[38;5;241m.\u001b[39mattrs[\u001b[38;5;124m\"\u001b[39m\u001b[38;5;124mallow_operate_mode\u001b[39m\u001b[38;5;124m\"\u001b[39m]\n\u001b[0;32m    263\u001b[0m ):\n\u001b[0;32m    264\u001b[0m     \u001b[38;5;28;01mraise\u001b[39;00m exceptions\u001b[38;5;241m.\u001b[39mModelError(\n\u001b[0;32m    265\u001b[0m         \u001b[38;5;124m\"\u001b[39m\u001b[38;5;124mUnable to run this model in operational mode, probably because \u001b[39m\u001b[38;5;124m\"\u001b[39m\n\u001b[0;32m    266\u001b[0m         \u001b[38;5;124m\"\u001b[39m\u001b[38;5;124mthere exist non-uniform timesteps (e.g. from time masking)\u001b[39m\u001b[38;5;124m\"\u001b[39m\n\u001b[0;32m    267\u001b[0m     )\n\u001b[1;32m--> 269\u001b[0m results, \u001b[38;5;28mself\u001b[39m\u001b[38;5;241m.\u001b[39m_backend_model, \u001b[38;5;28mself\u001b[39m\u001b[38;5;241m.\u001b[39m_backend_model_opt, interface \u001b[38;5;241m=\u001b[39m \u001b[43mrun_backend\u001b[49m\u001b[43m(\u001b[49m\n\u001b[0;32m    270\u001b[0m \u001b[43m    \u001b[49m\u001b[38;5;28;43mself\u001b[39;49m\u001b[38;5;241;43m.\u001b[39;49m\u001b[43m_model_data\u001b[49m\u001b[43m,\u001b[49m\u001b[43m \u001b[49m\u001b[38;5;28;43mself\u001b[39;49m\u001b[38;5;241;43m.\u001b[39;49m\u001b[43m_timings\u001b[49m\u001b[43m,\u001b[49m\u001b[43m \u001b[49m\u001b[38;5;241;43m*\u001b[39;49m\u001b[38;5;241;43m*\u001b[39;49m\u001b[43mkwargs\u001b[49m\n\u001b[0;32m    271\u001b[0m \u001b[43m\u001b[49m\u001b[43m)\u001b[49m\n\u001b[0;32m    273\u001b[0m \u001b[38;5;66;03m# Add additional post-processed result variables to results\u001b[39;00m\n\u001b[0;32m    274\u001b[0m \u001b[38;5;28;01mif\u001b[39;00m results\u001b[38;5;241m.\u001b[39mattrs\u001b[38;5;241m.\u001b[39mget(\u001b[38;5;124m\"\u001b[39m\u001b[38;5;124mtermination_condition\u001b[39m\u001b[38;5;124m\"\u001b[39m, \u001b[38;5;28;01mNone\u001b[39;00m) \u001b[38;5;129;01min\u001b[39;00m [\u001b[38;5;124m\"\u001b[39m\u001b[38;5;124moptimal\u001b[39m\u001b[38;5;124m\"\u001b[39m, \u001b[38;5;124m\"\u001b[39m\u001b[38;5;124mfeasible\u001b[39m\u001b[38;5;124m\"\u001b[39m]:\n",
      "File \u001b[1;32mc:\\Users\\Hewlett-Packard\\anaconda3\\envs\\calliope_0.6.8_spores\\lib\\site-packages\\calliope\\backend\\run.py:63\u001b[0m, in \u001b[0;36mrun\u001b[1;34m(model_data, timings, build_only)\u001b[0m\n\u001b[0;32m     55\u001b[0m     results, backend, opt \u001b[38;5;241m=\u001b[39m run_operate(\n\u001b[0;32m     56\u001b[0m         model_data,\n\u001b[0;32m     57\u001b[0m         timings,\n\u001b[0;32m     58\u001b[0m         backend\u001b[38;5;241m=\u001b[39mBACKEND[run_config\u001b[38;5;241m.\u001b[39mbackend],\n\u001b[0;32m     59\u001b[0m         build_only\u001b[38;5;241m=\u001b[39mbuild_only,\n\u001b[0;32m     60\u001b[0m     )\n\u001b[0;32m     62\u001b[0m \u001b[38;5;28;01melif\u001b[39;00m run_config[\u001b[38;5;124m\"\u001b[39m\u001b[38;5;124mmode\u001b[39m\u001b[38;5;124m\"\u001b[39m] \u001b[38;5;241m==\u001b[39m \u001b[38;5;124m\"\u001b[39m\u001b[38;5;124mspores\u001b[39m\u001b[38;5;124m\"\u001b[39m:\n\u001b[1;32m---> 63\u001b[0m     results, backend, opt \u001b[38;5;241m=\u001b[39m \u001b[43mrun_spores\u001b[49m\u001b[43m(\u001b[49m\n\u001b[0;32m     64\u001b[0m \u001b[43m        \u001b[49m\u001b[43mmodel_data\u001b[49m\u001b[43m,\u001b[49m\n\u001b[0;32m     65\u001b[0m \u001b[43m        \u001b[49m\u001b[43mtimings\u001b[49m\u001b[43m,\u001b[49m\n\u001b[0;32m     66\u001b[0m \u001b[43m        \u001b[49m\u001b[43minterface\u001b[49m\u001b[38;5;241;43m=\u001b[39;49m\u001b[43mINTERFACE\u001b[49m\u001b[43m[\u001b[49m\u001b[43mrun_config\u001b[49m\u001b[38;5;241;43m.\u001b[39;49m\u001b[43mbackend\u001b[49m\u001b[43m]\u001b[49m\u001b[43m,\u001b[49m\n\u001b[0;32m     67\u001b[0m \u001b[43m        \u001b[49m\u001b[43mbackend\u001b[49m\u001b[38;5;241;43m=\u001b[39;49m\u001b[43mBACKEND\u001b[49m\u001b[43m[\u001b[49m\u001b[43mrun_config\u001b[49m\u001b[38;5;241;43m.\u001b[39;49m\u001b[43mbackend\u001b[49m\u001b[43m]\u001b[49m\u001b[43m,\u001b[49m\n\u001b[0;32m     68\u001b[0m \u001b[43m        \u001b[49m\u001b[43mbuild_only\u001b[49m\u001b[38;5;241;43m=\u001b[39;49m\u001b[43mbuild_only\u001b[49m\u001b[43m,\u001b[49m\n\u001b[0;32m     69\u001b[0m \u001b[43m    \u001b[49m\u001b[43m)\u001b[49m\n\u001b[0;32m     71\u001b[0m \u001b[38;5;28;01mreturn\u001b[39;00m results, backend, opt, INTERFACE[run_config\u001b[38;5;241m.\u001b[39mbackend]\u001b[38;5;241m.\u001b[39mBackendInterfaceMethods\n",
      "File \u001b[1;32mc:\\Users\\Hewlett-Packard\\anaconda3\\envs\\calliope_0.6.8_spores\\lib\\site-packages\\calliope\\backend\\run.py:395\u001b[0m, in \u001b[0;36mrun_spores\u001b[1;34m(model_data, timings, interface, backend, build_only, backend_rerun, opt)\u001b[0m\n\u001b[0;32m    389\u001b[0m init_spores_scores \u001b[38;5;241m=\u001b[39m (\n\u001b[0;32m    390\u001b[0m     split_loc_techs(model_data\u001b[38;5;241m.\u001b[39mcost_energy_cap\u001b[38;5;241m.\u001b[39mloc[{\u001b[38;5;124m\"\u001b[39m\u001b[38;5;124mcosts\u001b[39m\u001b[38;5;124m\"\u001b[39m: spores_config[\u001b[38;5;124m\"\u001b[39m\u001b[38;5;124mscore_cost_class\u001b[39m\u001b[38;5;124m\"\u001b[39m]}])\n\u001b[0;32m    391\u001b[0m     \u001b[38;5;241m.\u001b[39mto_pandas()\n\u001b[0;32m    392\u001b[0m )\n\u001b[0;32m    393\u001b[0m spores_results \u001b[38;5;241m=\u001b[39m {}\n\u001b[1;32m--> 395\u001b[0m results, backend_model, opt \u001b[38;5;241m=\u001b[39m \u001b[43m_initialise_backend_model\u001b[49m\u001b[43m(\u001b[49m\u001b[43m)\u001b[49m\n\u001b[0;32m    396\u001b[0m \u001b[38;5;28;01mif\u001b[39;00m build_only:\n\u001b[0;32m    397\u001b[0m     \u001b[38;5;28;01mreturn\u001b[39;00m results, backend_model, opt\n",
      "File \u001b[1;32mc:\\Users\\Hewlett-Packard\\anaconda3\\envs\\calliope_0.6.8_spores\\lib\\site-packages\\calliope\\backend\\run.py:356\u001b[0m, in \u001b[0;36mrun_spores.<locals>._initialise_backend_model\u001b[1;34m()\u001b[0m\n\u001b[0;32m    353\u001b[0m     \u001b[38;5;28;01mreturn\u001b[39;00m run_plan(model_data, timings, backend, build_only\u001b[38;5;241m=\u001b[39m\u001b[38;5;28;01mTrue\u001b[39;00m, \u001b[38;5;241m*\u001b[39m\u001b[38;5;241m*\u001b[39mkwargs)\n\u001b[0;32m    354\u001b[0m \u001b[38;5;28;01melse\u001b[39;00m:\n\u001b[0;32m    355\u001b[0m     \u001b[38;5;66;03m# Run once for the 'cost-optimal' solution\u001b[39;00m\n\u001b[1;32m--> 356\u001b[0m     \u001b[38;5;28;01mreturn\u001b[39;00m \u001b[43mrun_plan\u001b[49m\u001b[43m(\u001b[49m\n\u001b[0;32m    357\u001b[0m \u001b[43m        \u001b[49m\u001b[43mmodel_data\u001b[49m\u001b[43m,\u001b[49m\u001b[43m \u001b[49m\u001b[43mtimings\u001b[49m\u001b[43m,\u001b[49m\u001b[43m \u001b[49m\u001b[43mbackend\u001b[49m\u001b[43m,\u001b[49m\u001b[43m \u001b[49m\u001b[43mbuild_only\u001b[49m\u001b[43m,\u001b[49m\u001b[43m \u001b[49m\u001b[43mpersistent\u001b[49m\u001b[38;5;241;43m=\u001b[39;49m\u001b[38;5;28;43;01mFalse\u001b[39;49;00m\u001b[43m,\u001b[49m\u001b[43m \u001b[49m\u001b[38;5;241;43m*\u001b[39;49m\u001b[38;5;241;43m*\u001b[39;49m\u001b[43mkwargs\u001b[49m\n\u001b[0;32m    358\u001b[0m \u001b[43m    \u001b[49m\u001b[43m)\u001b[49m\n",
      "File \u001b[1;32mc:\\Users\\Hewlett-Packard\\anaconda3\\envs\\calliope_0.6.8_spores\\lib\\site-packages\\calliope\\backend\\run.py:126\u001b[0m, in \u001b[0;36mrun_plan\u001b[1;34m(model_data, timings, backend, build_only, backend_rerun, allow_warmstart, persistent, opt)\u001b[0m\n\u001b[0;32m    118\u001b[0m     solver \u001b[38;5;241m=\u001b[39m solver\u001b[38;5;241m.\u001b[39mreplace(\u001b[38;5;124m\"\u001b[39m\u001b[38;5;124m_persistent\u001b[39m\u001b[38;5;124m\"\u001b[39m, \u001b[38;5;124m\"\u001b[39m\u001b[38;5;124m\"\u001b[39m)\n\u001b[0;32m    119\u001b[0m log_time(\n\u001b[0;32m    120\u001b[0m     logger,\n\u001b[0;32m    121\u001b[0m     timings,\n\u001b[0;32m    122\u001b[0m     \u001b[38;5;124m\"\u001b[39m\u001b[38;5;124mrun_solver_start\u001b[39m\u001b[38;5;124m\"\u001b[39m,\n\u001b[0;32m    123\u001b[0m     comment\u001b[38;5;241m=\u001b[39m\u001b[38;5;124m\"\u001b[39m\u001b[38;5;124mBackend: sending model to solver\u001b[39m\u001b[38;5;124m\"\u001b[39m,\n\u001b[0;32m    124\u001b[0m )\n\u001b[1;32m--> 126\u001b[0m backend_results, opt \u001b[38;5;241m=\u001b[39m \u001b[43mbackend\u001b[49m\u001b[38;5;241;43m.\u001b[39;49m\u001b[43msolve_model\u001b[49m\u001b[43m(\u001b[49m\n\u001b[0;32m    127\u001b[0m \u001b[43m    \u001b[49m\u001b[43mbackend_model\u001b[49m\u001b[43m,\u001b[49m\n\u001b[0;32m    128\u001b[0m \u001b[43m    \u001b[49m\u001b[43msolver\u001b[49m\u001b[38;5;241;43m=\u001b[39;49m\u001b[43msolver\u001b[49m\u001b[43m,\u001b[49m\n\u001b[0;32m    129\u001b[0m \u001b[43m    \u001b[49m\u001b[43msolver_io\u001b[49m\u001b[38;5;241;43m=\u001b[39;49m\u001b[43msolver_io\u001b[49m\u001b[43m,\u001b[49m\n\u001b[0;32m    130\u001b[0m \u001b[43m    \u001b[49m\u001b[43msolver_options\u001b[49m\u001b[38;5;241;43m=\u001b[39;49m\u001b[43msolver_options\u001b[49m\u001b[43m,\u001b[49m\n\u001b[0;32m    131\u001b[0m \u001b[43m    \u001b[49m\u001b[43msave_logs\u001b[49m\u001b[38;5;241;43m=\u001b[39;49m\u001b[43msave_logs\u001b[49m\u001b[43m,\u001b[49m\n\u001b[0;32m    132\u001b[0m \u001b[43m    \u001b[49m\u001b[43mwarmstart\u001b[49m\u001b[38;5;241;43m=\u001b[39;49m\u001b[43mwarmstart\u001b[49m\u001b[43m,\u001b[49m\n\u001b[0;32m    133\u001b[0m \u001b[43m    \u001b[49m\u001b[43mopt\u001b[49m\u001b[38;5;241;43m=\u001b[39;49m\u001b[43mopt\u001b[49m\u001b[43m,\u001b[49m\n\u001b[0;32m    134\u001b[0m \u001b[43m\u001b[49m\u001b[43m)\u001b[49m\n\u001b[0;32m    136\u001b[0m log_time(\n\u001b[0;32m    137\u001b[0m     logger,\n\u001b[0;32m    138\u001b[0m     timings,\n\u001b[1;32m   (...)\u001b[0m\n\u001b[0;32m    141\u001b[0m     comment\u001b[38;5;241m=\u001b[39m\u001b[38;5;124m\"\u001b[39m\u001b[38;5;124mBackend: solver finished running\u001b[39m\u001b[38;5;124m\"\u001b[39m,\n\u001b[0;32m    142\u001b[0m )\n\u001b[0;32m    144\u001b[0m termination \u001b[38;5;241m=\u001b[39m backend\u001b[38;5;241m.\u001b[39mload_results(backend_model, backend_results, opt)\n",
      "File \u001b[1;32mc:\\Users\\Hewlett-Packard\\anaconda3\\envs\\calliope_0.6.8_spores\\lib\\site-packages\\calliope\\backend\\pyomo\\model.py:230\u001b[0m, in \u001b[0;36msolve_model\u001b[1;34m(backend_model, solver, solver_io, solver_options, save_logs, opt, **solve_kwargs)\u001b[0m\n\u001b[0;32m    228\u001b[0m             results \u001b[38;5;241m=\u001b[39m opt\u001b[38;5;241m.\u001b[39msolve(tee\u001b[38;5;241m=\u001b[39m\u001b[38;5;28;01mTrue\u001b[39;00m, \u001b[38;5;241m*\u001b[39m\u001b[38;5;241m*\u001b[39msolve_kwargs)\n\u001b[0;32m    229\u001b[0m         \u001b[38;5;28;01melse\u001b[39;00m:\n\u001b[1;32m--> 230\u001b[0m             results \u001b[38;5;241m=\u001b[39m \u001b[43mopt\u001b[49m\u001b[38;5;241;43m.\u001b[39;49m\u001b[43msolve\u001b[49m\u001b[43m(\u001b[49m\u001b[43mbackend_model\u001b[49m\u001b[43m,\u001b[49m\u001b[43m \u001b[49m\u001b[43mtee\u001b[49m\u001b[38;5;241;43m=\u001b[39;49m\u001b[38;5;28;43;01mTrue\u001b[39;49;00m\u001b[43m,\u001b[49m\u001b[43m \u001b[49m\u001b[38;5;241;43m*\u001b[39;49m\u001b[38;5;241;43m*\u001b[39;49m\u001b[43msolve_kwargs\u001b[49m\u001b[43m)\u001b[49m\n\u001b[0;32m    231\u001b[0m \u001b[38;5;28;01mreturn\u001b[39;00m results, opt\n",
      "File \u001b[1;32mc:\\Users\\Hewlett-Packard\\anaconda3\\envs\\calliope_0.6.8_spores\\lib\\site-packages\\pyomo\\opt\\base\\solvers.py:626\u001b[0m, in \u001b[0;36mOptSolver.solve\u001b[1;34m(self, *args, **kwds)\u001b[0m\n\u001b[0;32m    624\u001b[0m \u001b[38;5;28;01melse\u001b[39;00m:\n\u001b[0;32m    625\u001b[0m     \u001b[38;5;28;01mif\u001b[39;00m \u001b[38;5;28mself\u001b[39m\u001b[38;5;241m.\u001b[39m_load_solutions:\n\u001b[1;32m--> 626\u001b[0m         \u001b[43m_model\u001b[49m\u001b[38;5;241;43m.\u001b[39;49m\u001b[43msolutions\u001b[49m\u001b[38;5;241;43m.\u001b[39;49m\u001b[43mload_from\u001b[49m\u001b[43m(\u001b[49m\n\u001b[0;32m    627\u001b[0m \u001b[43m            \u001b[49m\u001b[43mresult\u001b[49m\u001b[43m,\u001b[49m\n\u001b[0;32m    628\u001b[0m \u001b[43m            \u001b[49m\u001b[43mselect\u001b[49m\u001b[38;5;241;43m=\u001b[39;49m\u001b[38;5;28;43mself\u001b[39;49m\u001b[38;5;241;43m.\u001b[39;49m\u001b[43m_select_index\u001b[49m\u001b[43m,\u001b[49m\n\u001b[0;32m    629\u001b[0m \u001b[43m            \u001b[49m\u001b[43mdefault_variable_value\u001b[49m\u001b[38;5;241;43m=\u001b[39;49m\u001b[38;5;28;43mself\u001b[39;49m\u001b[38;5;241;43m.\u001b[39;49m\u001b[43m_default_variable_value\u001b[49m\u001b[43m)\u001b[49m\n\u001b[0;32m    630\u001b[0m         result\u001b[38;5;241m.\u001b[39m_smap_id \u001b[38;5;241m=\u001b[39m \u001b[38;5;28;01mNone\u001b[39;00m\n\u001b[0;32m    631\u001b[0m         result\u001b[38;5;241m.\u001b[39msolution\u001b[38;5;241m.\u001b[39mclear()\n",
      "File \u001b[1;32mc:\\Users\\Hewlett-Packard\\anaconda3\\envs\\calliope_0.6.8_spores\\lib\\site-packages\\pyomo\\core\\base\\PyomoModel.py:224\u001b[0m, in \u001b[0;36mModelSolutions.load_from\u001b[1;34m(self, results, allow_consistent_values_for_fixed_vars, comparison_tolerance_for_fixed_vars, ignore_invalid_labels, id, delete_symbol_map, clear, default_variable_value, select, ignore_fixed_vars)\u001b[0m\n\u001b[0;32m    220\u001b[0m         logger\u001b[38;5;241m.\u001b[39mwarning(\n\u001b[0;32m    221\u001b[0m             \u001b[38;5;124m\"\u001b[39m\u001b[38;5;124mLoading a SolverResults object with \u001b[39m\u001b[38;5;124m\"\u001b[39m\n\u001b[0;32m    222\u001b[0m             \u001b[38;5;124m\"\u001b[39m\u001b[38;5;124man \u001b[39m\u001b[38;5;124m'\u001b[39m\u001b[38;5;124maborted\u001b[39m\u001b[38;5;124m'\u001b[39m\u001b[38;5;124m status, but containing a solution\u001b[39m\u001b[38;5;124m\"\u001b[39m)\n\u001b[0;32m    223\u001b[0m     \u001b[38;5;28;01melse\u001b[39;00m:\n\u001b[1;32m--> 224\u001b[0m         \u001b[38;5;28;01mraise\u001b[39;00m \u001b[38;5;167;01mValueError\u001b[39;00m(\u001b[38;5;124m\"\u001b[39m\u001b[38;5;124mCannot load a SolverResults object \u001b[39m\u001b[38;5;124m\"\u001b[39m\n\u001b[0;32m    225\u001b[0m                          \u001b[38;5;124m\"\u001b[39m\u001b[38;5;124mwith bad status: \u001b[39m\u001b[38;5;132;01m%s\u001b[39;00m\u001b[38;5;124m\"\u001b[39m\n\u001b[0;32m    226\u001b[0m                          \u001b[38;5;241m%\u001b[39m \u001b[38;5;28mstr\u001b[39m(results\u001b[38;5;241m.\u001b[39msolver\u001b[38;5;241m.\u001b[39mstatus))\n\u001b[0;32m    227\u001b[0m \u001b[38;5;28;01mif\u001b[39;00m clear:\n\u001b[0;32m    228\u001b[0m     \u001b[38;5;66;03m#\u001b[39;00m\n\u001b[0;32m    229\u001b[0m     \u001b[38;5;66;03m# Clear the solutions, but not the symbol map\u001b[39;00m\n\u001b[0;32m    230\u001b[0m     \u001b[38;5;66;03m#\u001b[39;00m\n\u001b[0;32m    231\u001b[0m     \u001b[38;5;28mself\u001b[39m\u001b[38;5;241m.\u001b[39mclear(clear_symbol_maps\u001b[38;5;241m=\u001b[39m\u001b[38;5;28;01mFalse\u001b[39;00m)\n",
      "\u001b[1;31mValueError\u001b[0m: Cannot load a SolverResults object with bad status: error"
     ]
    }
   ],
   "source": [
    "model = calliope.Model('model_files/model.yaml', scenario='spores_group_constraint,spores_run_config,children_spores,spores_scoring')\n",
    "model.run()"
   ]
  }
 ],
 "metadata": {
  "kernelspec": {
   "display_name": "calliope_0.6.8_spores",
   "language": "python",
   "name": "python3"
  },
  "language_info": {
   "codemirror_mode": {
    "name": "ipython",
    "version": 3
   },
   "file_extension": ".py",
   "mimetype": "text/x-python",
   "name": "python",
   "nbconvert_exporter": "python",
   "pygments_lexer": "ipython3",
   "version": "3.8.20"
  }
 },
 "nbformat": 4,
 "nbformat_minor": 5
}
